{
 "cells": [
  {
   "cell_type": "markdown",
   "metadata": {},
   "source": [
    "    IMPORTING"
   ]
  },
  {
   "cell_type": "code",
   "execution_count": 1,
   "metadata": {},
   "outputs": [],
   "source": [
    "import pandas as pd"
   ]
  },
  {
   "cell_type": "code",
   "execution_count": 9,
   "metadata": {},
   "outputs": [
    {
     "data": {
      "text/html": [
       "<div>\n",
       "<style scoped>\n",
       "    .dataframe tbody tr th:only-of-type {\n",
       "        vertical-align: middle;\n",
       "    }\n",
       "\n",
       "    .dataframe tbody tr th {\n",
       "        vertical-align: top;\n",
       "    }\n",
       "\n",
       "    .dataframe thead th {\n",
       "        text-align: right;\n",
       "    }\n",
       "</style>\n",
       "<table border=\"1\" class=\"dataframe\">\n",
       "  <thead>\n",
       "    <tr style=\"text-align: right;\">\n",
       "      <th></th>\n",
       "      <th>N</th>\n",
       "      <th>P</th>\n",
       "      <th>K</th>\n",
       "      <th>ph</th>\n",
       "      <th>EC</th>\n",
       "      <th>S</th>\n",
       "      <th>Cu</th>\n",
       "      <th>Fe</th>\n",
       "      <th>Mn</th>\n",
       "      <th>Zn</th>\n",
       "      <th>B</th>\n",
       "      <th>label</th>\n",
       "    </tr>\n",
       "  </thead>\n",
       "  <tbody>\n",
       "    <tr>\n",
       "      <th>0</th>\n",
       "      <td>143</td>\n",
       "      <td>69</td>\n",
       "      <td>217</td>\n",
       "      <td>5.9</td>\n",
       "      <td>0.58</td>\n",
       "      <td>0.23000</td>\n",
       "      <td>10.20</td>\n",
       "      <td>116.35</td>\n",
       "      <td>59.96</td>\n",
       "      <td>54.85</td>\n",
       "      <td>21.29</td>\n",
       "      <td>pomegranate</td>\n",
       "    </tr>\n",
       "    <tr>\n",
       "      <th>1</th>\n",
       "      <td>170</td>\n",
       "      <td>36</td>\n",
       "      <td>216</td>\n",
       "      <td>5.9</td>\n",
       "      <td>0.15</td>\n",
       "      <td>0.28000</td>\n",
       "      <td>15.69</td>\n",
       "      <td>114.20</td>\n",
       "      <td>56.87</td>\n",
       "      <td>31.28</td>\n",
       "      <td>28.62</td>\n",
       "      <td>pomegranate</td>\n",
       "    </tr>\n",
       "    <tr>\n",
       "      <th>2</th>\n",
       "      <td>158</td>\n",
       "      <td>66</td>\n",
       "      <td>219</td>\n",
       "      <td>6.8</td>\n",
       "      <td>0.34</td>\n",
       "      <td>0.20000</td>\n",
       "      <td>15.29</td>\n",
       "      <td>65.87</td>\n",
       "      <td>51.81</td>\n",
       "      <td>57.12</td>\n",
       "      <td>27.59</td>\n",
       "      <td>pomegranate</td>\n",
       "    </tr>\n",
       "    <tr>\n",
       "      <th>3</th>\n",
       "      <td>133</td>\n",
       "      <td>45</td>\n",
       "      <td>207</td>\n",
       "      <td>6.4</td>\n",
       "      <td>0.94</td>\n",
       "      <td>0.21000</td>\n",
       "      <td>8.48</td>\n",
       "      <td>103.10</td>\n",
       "      <td>43.81</td>\n",
       "      <td>68.50</td>\n",
       "      <td>47.29</td>\n",
       "      <td>pomegranate</td>\n",
       "    </tr>\n",
       "    <tr>\n",
       "      <th>4</th>\n",
       "      <td>132</td>\n",
       "      <td>48</td>\n",
       "      <td>218</td>\n",
       "      <td>6.7</td>\n",
       "      <td>0.54</td>\n",
       "      <td>0.19000</td>\n",
       "      <td>5.59</td>\n",
       "      <td>63.40</td>\n",
       "      <td>56.40</td>\n",
       "      <td>46.71</td>\n",
       "      <td>31.04</td>\n",
       "      <td>pomegranate</td>\n",
       "    </tr>\n",
       "    <tr>\n",
       "      <th>...</th>\n",
       "      <td>...</td>\n",
       "      <td>...</td>\n",
       "      <td>...</td>\n",
       "      <td>...</td>\n",
       "      <td>...</td>\n",
       "      <td>...</td>\n",
       "      <td>...</td>\n",
       "      <td>...</td>\n",
       "      <td>...</td>\n",
       "      <td>...</td>\n",
       "      <td>...</td>\n",
       "      <td>...</td>\n",
       "    </tr>\n",
       "    <tr>\n",
       "      <th>615</th>\n",
       "      <td>41</td>\n",
       "      <td>23</td>\n",
       "      <td>135</td>\n",
       "      <td>5.0</td>\n",
       "      <td>1.67</td>\n",
       "      <td>0.10655</td>\n",
       "      <td>26.00</td>\n",
       "      <td>39.20</td>\n",
       "      <td>206.89</td>\n",
       "      <td>31.09</td>\n",
       "      <td>20.64</td>\n",
       "      <td>potato</td>\n",
       "    </tr>\n",
       "    <tr>\n",
       "      <th>616</th>\n",
       "      <td>49</td>\n",
       "      <td>45</td>\n",
       "      <td>90</td>\n",
       "      <td>5.8</td>\n",
       "      <td>1.98</td>\n",
       "      <td>0.09229</td>\n",
       "      <td>19.00</td>\n",
       "      <td>40.20</td>\n",
       "      <td>91.12</td>\n",
       "      <td>32.68</td>\n",
       "      <td>14.91</td>\n",
       "      <td>potato</td>\n",
       "    </tr>\n",
       "    <tr>\n",
       "      <th>617</th>\n",
       "      <td>131</td>\n",
       "      <td>24</td>\n",
       "      <td>121</td>\n",
       "      <td>4.9</td>\n",
       "      <td>2.24</td>\n",
       "      <td>0.08775</td>\n",
       "      <td>22.00</td>\n",
       "      <td>40.00</td>\n",
       "      <td>94.34</td>\n",
       "      <td>24.93</td>\n",
       "      <td>23.74</td>\n",
       "      <td>potato</td>\n",
       "    </tr>\n",
       "    <tr>\n",
       "      <th>618</th>\n",
       "      <td>131</td>\n",
       "      <td>55</td>\n",
       "      <td>130</td>\n",
       "      <td>5.3</td>\n",
       "      <td>2.48</td>\n",
       "      <td>0.08983</td>\n",
       "      <td>15.00</td>\n",
       "      <td>41.00</td>\n",
       "      <td>92.58</td>\n",
       "      <td>45.73</td>\n",
       "      <td>21.48</td>\n",
       "      <td>potato</td>\n",
       "    </tr>\n",
       "    <tr>\n",
       "      <th>619</th>\n",
       "      <td>129</td>\n",
       "      <td>34</td>\n",
       "      <td>160</td>\n",
       "      <td>4.8</td>\n",
       "      <td>1.08</td>\n",
       "      <td>0.08869</td>\n",
       "      <td>25.00</td>\n",
       "      <td>39.00</td>\n",
       "      <td>259.93</td>\n",
       "      <td>33.49</td>\n",
       "      <td>14.16</td>\n",
       "      <td>potato</td>\n",
       "    </tr>\n",
       "  </tbody>\n",
       "</table>\n",
       "<p>620 rows × 12 columns</p>\n",
       "</div>"
      ],
      "text/plain": [
       "       N   P    K   ph    EC        S     Cu      Fe      Mn     Zn      B  \\\n",
       "0    143  69  217  5.9  0.58  0.23000  10.20  116.35   59.96  54.85  21.29   \n",
       "1    170  36  216  5.9  0.15  0.28000  15.69  114.20   56.87  31.28  28.62   \n",
       "2    158  66  219  6.8  0.34  0.20000  15.29   65.87   51.81  57.12  27.59   \n",
       "3    133  45  207  6.4  0.94  0.21000   8.48  103.10   43.81  68.50  47.29   \n",
       "4    132  48  218  6.7  0.54  0.19000   5.59   63.40   56.40  46.71  31.04   \n",
       "..   ...  ..  ...  ...   ...      ...    ...     ...     ...    ...    ...   \n",
       "615   41  23  135  5.0  1.67  0.10655  26.00   39.20  206.89  31.09  20.64   \n",
       "616   49  45   90  5.8  1.98  0.09229  19.00   40.20   91.12  32.68  14.91   \n",
       "617  131  24  121  4.9  2.24  0.08775  22.00   40.00   94.34  24.93  23.74   \n",
       "618  131  55  130  5.3  2.48  0.08983  15.00   41.00   92.58  45.73  21.48   \n",
       "619  129  34  160  4.8  1.08  0.08869  25.00   39.00  259.93  33.49  14.16   \n",
       "\n",
       "           label  \n",
       "0    pomegranate  \n",
       "1    pomegranate  \n",
       "2    pomegranate  \n",
       "3    pomegranate  \n",
       "4    pomegranate  \n",
       "..           ...  \n",
       "615       potato  \n",
       "616       potato  \n",
       "617       potato  \n",
       "618       potato  \n",
       "619       potato  \n",
       "\n",
       "[620 rows x 12 columns]"
      ]
     },
     "execution_count": 9,
     "metadata": {},
     "output_type": "execute_result"
    }
   ],
   "source": [
    "df = pd.read_csv('dataset.csv')\n",
    "df"
   ]
  },
  {
   "cell_type": "code",
   "execution_count": 33,
   "metadata": {},
   "outputs": [
    {
     "data": {
      "text/plain": [
       "N        135\n",
       "P         90\n",
       "K        238\n",
       "ph        36\n",
       "EC       210\n",
       "S        314\n",
       "Cu       469\n",
       "Fe       554\n",
       "Mn       604\n",
       "Zn       574\n",
       "B        586\n",
       "label      6\n",
       "dtype: int64"
      ]
     },
     "execution_count": 33,
     "metadata": {},
     "output_type": "execute_result"
    }
   ],
   "source": [
    "df.nunique()"
   ]
  },
  {
   "cell_type": "code",
   "execution_count": 38,
   "metadata": {},
   "outputs": [
    {
     "name": "stdout",
     "output_type": "stream",
     "text": [
      "<class 'pandas.core.frame.DataFrame'>\n",
      "RangeIndex: 620 entries, 0 to 619\n",
      "Data columns (total 12 columns):\n",
      " #   Column  Non-Null Count  Dtype  \n",
      "---  ------  --------------  -----  \n",
      " 0   N       620 non-null    int64  \n",
      " 1   P       620 non-null    int64  \n",
      " 2   K       620 non-null    int64  \n",
      " 3   ph      620 non-null    float64\n",
      " 4   EC      620 non-null    float64\n",
      " 5   S       620 non-null    float64\n",
      " 6   Cu      620 non-null    float64\n",
      " 7   Fe      620 non-null    float64\n",
      " 8   Mn      620 non-null    float64\n",
      " 9   Zn      620 non-null    float64\n",
      " 10  B       620 non-null    float64\n",
      " 11  label   620 non-null    object \n",
      "dtypes: float64(8), int64(3), object(1)\n",
      "memory usage: 58.2+ KB\n"
     ]
    }
   ],
   "source": [
    "df.info()"
   ]
  },
  {
   "cell_type": "code",
   "execution_count": 46,
   "metadata": {},
   "outputs": [
    {
     "data": {
      "text/plain": [
       "N          int64\n",
       "P          int64\n",
       "K          int64\n",
       "ph       float64\n",
       "EC       float64\n",
       "S        float64\n",
       "Cu       float64\n",
       "Fe       float64\n",
       "Mn       float64\n",
       "Zn       float64\n",
       "B        float64\n",
       "label     object\n",
       "dtype: object"
      ]
     },
     "execution_count": 46,
     "metadata": {},
     "output_type": "execute_result"
    }
   ],
   "source": [
    "df.dtypes"
   ]
  },
  {
   "cell_type": "code",
   "execution_count": 47,
   "metadata": {},
   "outputs": [
    {
     "data": {
      "text/plain": [
       "array(['pomegranate', 'mango', 'grapes', 'mulberry', 'ragi', 'potato'],\n",
       "      dtype=object)"
      ]
     },
     "execution_count": 47,
     "metadata": {},
     "output_type": "execute_result"
    }
   ],
   "source": [
    "df.label.unique()"
   ]
  },
  {
   "cell_type": "code",
   "execution_count": 48,
   "metadata": {},
   "outputs": [
    {
     "data": {
      "text/plain": [
       "6"
      ]
     },
     "execution_count": 48,
     "metadata": {},
     "output_type": "execute_result"
    }
   ],
   "source": [
    "df.label.nunique()"
   ]
  },
  {
   "cell_type": "code",
   "execution_count": 6,
   "metadata": {},
   "outputs": [],
   "source": [
    "#Defining a series object\n",
    "#srs = pd.Series([1,2,3,4,5])\n",
    "#srs"
   ]
  },
  {
   "cell_type": "code",
   "execution_count": 5,
   "metadata": {},
   "outputs": [],
   "source": [
    "#Printing series value\n",
    "#srs.values"
   ]
  },
  {
   "cell_type": "markdown",
   "metadata": {},
   "source": [
    "#### Specify valus in the data frame column"
   ]
  },
  {
   "cell_type": "code",
   "execution_count": 4,
   "metadata": {},
   "outputs": [],
   "source": [
    "#df = pd.DataFrame([[2,3,4],[3,5,6,]],index=['a','j'],columns=['c','d',2])\n",
    "#df"
   ]
  },
  {
   "cell_type": "code",
   "execution_count": 2,
   "metadata": {},
   "outputs": [],
   "source": [
    "#df = pd.DataFrame( \n",
    "#     [[1, 2, 3], \n",
    "#     [4, 6, 8],\n",
    "#     [10, 11, 12]],\n",
    "#     index=[1, 2, 3], \n",
    "#     columns=['a', 'b', 'c'])\n",
    "#df"
   ]
  },
  {
   "cell_type": "markdown",
   "metadata": {},
   "source": [
    "##### Create and name a series \n",
    "Create one-dimensional array to hold any data type.\n",
    "Invoke the pd.series() method and then pass a list of values. Pandas will default count index from 0."
   ]
  },
  {
   "cell_type": "code",
   "execution_count": 3,
   "metadata": {},
   "outputs": [],
   "source": [
    "#series1 = pd.DataFrame([[3,4,5,3],[2,4,5,6]],index=['b',.5], columns=['a', 'b','c','d'])\n",
    "#series1"
   ]
  },
  {
   "cell_type": "markdown",
   "metadata": {},
   "source": [
    "##### set the series name"
   ]
  },
  {
   "cell_type": "code",
   "execution_count": 2,
   "metadata": {},
   "outputs": [
    {
     "data": {
      "text/plain": [
       "[1, 2, 3, 4, 5, 6, 7, 8, 9]"
      ]
     },
     "execution_count": 2,
     "metadata": {},
     "output_type": "execute_result"
    }
   ],
   "source": [
    "nums = [1,2,3,4,5,6,7,8,9]\n",
    "my_list = []\n",
    "for n in nums:\n",
    "    my_list.append(n)\n",
    "\n",
    "my_list    "
   ]
  },
  {
   "cell_type": "code",
   "execution_count": 3,
   "metadata": {},
   "outputs": [
    {
     "data": {
      "text/plain": [
       "'banana'"
      ]
     },
     "execution_count": 3,
     "metadata": {},
     "output_type": "execute_result"
    }
   ],
   "source": [
    "fruits = ['apple','banana','orange','grape']\n",
    "fruits[1]"
   ]
  },
  {
   "cell_type": "code",
   "execution_count": 4,
   "metadata": {},
   "outputs": [
    {
     "data": {
      "text/plain": [
       "'orange'"
      ]
     },
     "execution_count": 4,
     "metadata": {},
     "output_type": "execute_result"
    }
   ],
   "source": [
    "fruits[2]"
   ]
  },
  {
   "cell_type": "code",
   "execution_count": 5,
   "metadata": {},
   "outputs": [
    {
     "data": {
      "text/plain": [
       "['banana', 'orange']"
      ]
     },
     "execution_count": 5,
     "metadata": {},
     "output_type": "execute_result"
    }
   ],
   "source": [
    "fruits[1:3]"
   ]
  },
  {
   "cell_type": "code",
   "execution_count": 6,
   "metadata": {},
   "outputs": [
    {
     "name": "stdout",
     "output_type": "stream",
     "text": [
      "Yes, 'apple' is in the fruits list\n"
     ]
    }
   ],
   "source": [
    "thislist = [\"apple\", \"banana\", \"cherry\"]\n",
    "if \"apple\" in thislist:\n",
    "  print(\"Yes, 'apple' is in the fruits list\")"
   ]
  },
  {
   "cell_type": "code",
   "execution_count": 3,
   "metadata": {},
   "outputs": [],
   "source": [
    "hat = [1,2,3,4,5,3,22,2,1,2,32,34,3,4,31,2,32,3,23,23,2,3]\n"
   ]
  },
  {
   "cell_type": "code",
   "execution_count": 8,
   "metadata": {},
   "outputs": [],
   "source": [
    "hat.sort()"
   ]
  },
  {
   "cell_type": "code",
   "execution_count": 9,
   "metadata": {},
   "outputs": [
    {
     "data": {
      "text/plain": [
       "[1, 1, 2, 2, 2, 2, 2, 3, 3, 3, 3, 3, 4, 4, 5, 22, 23, 23, 31, 32, 32, 34]"
      ]
     },
     "execution_count": 9,
     "metadata": {},
     "output_type": "execute_result"
    }
   ],
   "source": [
    "hat"
   ]
  },
  {
   "cell_type": "code",
   "execution_count": 10,
   "metadata": {},
   "outputs": [],
   "source": [
    "hat.sort(reverse=True)"
   ]
  },
  {
   "cell_type": "code",
   "execution_count": 11,
   "metadata": {},
   "outputs": [
    {
     "data": {
      "text/plain": [
       "[34, 32, 32, 31, 23, 23, 22, 5, 4, 4, 3, 3, 3, 3, 3, 2, 2, 2, 2, 2, 1, 1]"
      ]
     },
     "execution_count": 11,
     "metadata": {},
     "output_type": "execute_result"
    }
   ],
   "source": [
    "hat"
   ]
  },
  {
   "cell_type": "code",
   "execution_count": null,
   "metadata": {},
   "outputs": [],
   "source": []
  }
 ],
 "metadata": {
  "kernelspec": {
   "display_name": "Python 3",
   "language": "python",
   "name": "python3"
  },
  "language_info": {
   "codemirror_mode": {
    "name": "ipython",
    "version": 3
   },
   "file_extension": ".py",
   "mimetype": "text/x-python",
   "name": "python",
   "nbconvert_exporter": "python",
   "pygments_lexer": "ipython3",
   "version": "3.8.3"
  }
 },
 "nbformat": 4,
 "nbformat_minor": 4
}
