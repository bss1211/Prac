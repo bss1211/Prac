{
 "cells": [
  {
   "cell_type": "markdown",
   "metadata": {},
   "source": [
    "###### 13 Advanced Python Scripts For Everyday Programming"
   ]
  },
  {
   "cell_type": "markdown",
   "metadata": {},
   "source": [
    "##### 1. SpeedTest with Python"
   ]
  },
  {
   "cell_type": "markdown",
   "metadata": {},
   "source": []
  },
  {
   "cell_type": "code",
   "execution_count": 1,
   "metadata": {},
   "outputs": [
    {
     "name": "stdout",
     "output_type": "stream",
     "text": [
      "Collecting pyspeedtest\n",
      "  Downloading pyspeedtest-1.2.7.tar.gz (6.8 kB)\n",
      "Building wheels for collected packages: pyspeedtest\n",
      "  Building wheel for pyspeedtest (setup.py): started\n",
      "  Building wheel for pyspeedtest (setup.py): finished with status 'done'\n",
      "  Created wheel for pyspeedtest: filename=pyspeedtest-1.2.7-py3-none-any.whl size=7296 sha256=a12620b81ea23a937a857cf9da601a0e8fd12af9ba21513862511216e3d1c24b\n",
      "  Stored in directory: c:\\users\\aragog\\appdata\\local\\pip\\cache\\wheels\\ed\\1d\\ef\\0817d4c8a657953c563466a084f4c86e95464e1cab84895c5b\n",
      "Successfully built pyspeedtest\n",
      "Installing collected packages: pyspeedtest\n",
      "Successfully installed pyspeedtest-1.2.7\n",
      "Collecting speedtest\n",
      "  Downloading speedtest-0.0.1-py3-none-any.whl (1.3 kB)\n",
      "Installing collected packages: speedtest\n",
      "Successfully installed speedtest-0.0.1\n",
      "Collecting speedtest-cli\n",
      "  Downloading speedtest_cli-2.1.3-py2.py3-none-any.whl (23 kB)\n",
      "Installing collected packages: speedtest-cli\n",
      "Successfully installed speedtest-cli-2.1.3\n"
     ]
    }
   ],
   "source": [
    "!pip install pyspeedtest\n",
    "!pip install speedtest\n",
    "!pip install speedtest-cli"
   ]
  },
  {
   "cell_type": "code",
   "execution_count": 6,
   "metadata": {},
   "outputs": [],
   "source": [
    "#method 1\n",
    "import speedtest"
   ]
  },
  {
   "cell_type": "code",
   "execution_count": 8,
   "metadata": {},
   "outputs": [
    {
     "ename": "AttributeError",
     "evalue": "module 'speedtest' has no attribute 'Speedtest'",
     "output_type": "error",
     "traceback": [
      "\u001b[1;31m---------------------------------------------------------------------------\u001b[0m",
      "\u001b[1;31mAttributeError\u001b[0m                            Traceback (most recent call last)",
      "\u001b[1;32m<ipython-input-8-0e2eed8922c6>\u001b[0m in \u001b[0;36m<module>\u001b[1;34m\u001b[0m\n\u001b[1;32m----> 1\u001b[1;33m \u001b[0mspeedTest\u001b[0m \u001b[1;33m=\u001b[0m \u001b[0mspeedtest\u001b[0m\u001b[1;33m.\u001b[0m\u001b[0mSpeedtest\u001b[0m\u001b[1;33m(\u001b[0m\u001b[1;33m)\u001b[0m\u001b[1;33m\u001b[0m\u001b[1;33m\u001b[0m\u001b[0m\n\u001b[0m\u001b[0;32m      2\u001b[0m \u001b[0mprint\u001b[0m\u001b[1;33m(\u001b[0m\u001b[0mspeedTest\u001b[0m\u001b[1;33m.\u001b[0m\u001b[0mget_best_server\u001b[0m\u001b[1;33m(\u001b[0m\u001b[1;33m)\u001b[0m\u001b[1;33m)\u001b[0m\u001b[1;33m\u001b[0m\u001b[1;33m\u001b[0m\u001b[0m\n",
      "\u001b[1;31mAttributeError\u001b[0m: module 'speedtest' has no attribute 'Speedtest'"
     ]
    }
   ],
   "source": [
    "speedTest = speedtest.Speedtest() \n",
    "print(speedTest.get_best_server())"
   ]
  },
  {
   "cell_type": "code",
   "execution_count": 7,
   "metadata": {},
   "outputs": [
    {
     "ename": "NameError",
     "evalue": "name 'speedTest' is not defined",
     "output_type": "error",
     "traceback": [
      "\u001b[1;31m---------------------------------------------------------------------------\u001b[0m",
      "\u001b[1;31mNameError\u001b[0m                                 Traceback (most recent call last)",
      "\u001b[1;32m<ipython-input-7-dffa9cdd47d8>\u001b[0m in \u001b[0;36m<module>\u001b[1;34m\u001b[0m\n\u001b[0;32m      1\u001b[0m \u001b[1;31m#Check download speed\u001b[0m\u001b[1;33m\u001b[0m\u001b[1;33m\u001b[0m\u001b[1;33m\u001b[0m\u001b[0m\n\u001b[1;32m----> 2\u001b[1;33m \u001b[0mprint\u001b[0m\u001b[1;33m(\u001b[0m\u001b[0mspeedTest\u001b[0m\u001b[1;33m.\u001b[0m\u001b[0mdownload\u001b[0m\u001b[1;33m(\u001b[0m\u001b[1;33m)\u001b[0m\u001b[1;33m)\u001b[0m\u001b[1;33m\u001b[0m\u001b[1;33m\u001b[0m\u001b[0m\n\u001b[0m",
      "\u001b[1;31mNameError\u001b[0m: name 'speedTest' is not defined"
     ]
    }
   ],
   "source": [
    "#Check download speed\n",
    "print(speedTest.download())"
   ]
  },
  {
   "cell_type": "code",
   "execution_count": 10,
   "metadata": {},
   "outputs": [
    {
     "name": "stdout",
     "output_type": "stream",
     "text": [
      "Collecting google\n",
      "  Downloading google-3.0.0-py2.py3-none-any.whl (45 kB)\n",
      "Requirement already satisfied: beautifulsoup4 in c:\\users\\aragog\\anaconda3\\lib\\site-packages (from google) (4.9.1)\n",
      "Requirement already satisfied: soupsieve>1.2 in c:\\users\\aragog\\anaconda3\\lib\\site-packages (from beautifulsoup4->google) (2.0.1)\n",
      "Installing collected packages: google\n",
      "Successfully installed google-3.0.0\n",
      "https://medium.com/\n",
      "https://twitter.com/Medium?ref_src=twsrc%5Egoogle%7Ctwcamp%5Eserp%7Ctwgr%5Eauthor\n",
      "https://twitter.com/Medium/status/1581096268159254528?ref_src=twsrc%5Egoogle%7Ctwcamp%5Eserp%7Ctwgr%5Etweet\n",
      "https://twitter.com/Medium/status/1580700409286447104?ref_src=twsrc%5Egoogle%7Ctwcamp%5Eserp%7Ctwgr%5Etweet\n",
      "https://twitter.com/Medium/status/1580609827335643136?ref_src=twsrc%5Egoogle%7Ctwcamp%5Eserp%7Ctwgr%5Etweet\n",
      "https://twitter.com/Medium/status/1580328458462367744?ref_src=twsrc%5Egoogle%7Ctwcamp%5Eserp%7Ctwgr%5Etweet\n",
      "https://en.wikipedia.org/wiki/Medium_(website)\n",
      "https://blog.hubspot.com/marketing/how-to-use-medium\n",
      "https://www.crunchbase.com/organization/medium\n",
      "https://www.linkedin.com/company/medium-com\n",
      "https://www.similarweb.com/website/medium.com/\n",
      "https://www.growthmachine.com/blog/should-you-publish-on-medium\n",
      "https://www.youtube.com/watch?v=XWwUT465s2w\n",
      "https://twitter.com/medium\n",
      "https://www.youtube.com/watch?v=AndRAyJg-W0\n",
      "https://www.trustradius.com/products/medium/reviews\n",
      "https://apps.apple.com/us/app/medium/id828256236\n",
      "https://www.facebook.com/medium/\n",
      "https://findingtom.com/what-is-medium-com\n",
      "https://www.theatlantic.com/technology/archive/2013/08/what-is-medium/278965/\n",
      "https://medium.statuspage.io/\n",
      "https://www.thetylerhenrymedium.com/\n",
      "https://medium.design/\n",
      "https://buffer.com/library/how-to-use-medium/\n",
      "https://www.instagram.com/medium/\n",
      "https://www.madx.digital/learn/the-most-popular-topics-on-medium\n",
      "https://medium.design/logos-and-brand-guidelines-f1a01a733592\n",
      "https://github.com/manojVivek/medium-unlimited\n",
      "https://beebom.com/medium-alternatives/\n",
      "https://towardsdatascience.com/https-medium-com-vishalmorde-xgboost-algorithm-long-she-may-rein-edd9f99be63d\n",
      "https://neilpatel.com/blog/marketers-guide-to-medium/\n",
      "https://www.theverge.com/2021/3/24/22349175/medium-layoffs-union-evan-williams-blogger-twitter-subscription\n",
      "https://teehanlax.com/story/medium/\n",
      "https://netflixtechblog.com/\n",
      "https://netflixtechblog.com/the-netflix-simian-army-16e57fbab116\n",
      "https://www.cantorsparadise.com/the-ramanujan-summation-1-2-3-1-12-a8cc23dea793\n",
      "https://writingcooperative.com/my-first-60-days-on-medium-here-is-the-good-the-bad-and-the-ugly-d347288c1bd3\n",
      "https://uxdesign.cc/\n",
      "https://www.medicalmedium.com/preferred/supplements\n",
      "https://www.sendible.com/insights/blog-publishing-on-medium\n",
      "https://signmedium.in/\n",
      "https://m2pfintech.com/blog/embedded-finance-101-the-bridge-connecting-tech-and-financial-services/\n",
      "https://javascript.plainenglish.io/\n",
      "https://www.dictionary.com/e/slang/nailed-it/\n",
      "https://sudoku.com/medium/\n",
      "https://betterprogramming.pub/\n",
      "https://incometaxindiaefiling.gov.in/\n",
      "https://go.tlc.com/show/long-island-medium-tlc\n",
      "https://www.unwomen.org/en/news/stories/2021/3/compilation-claiming-womens-space-in-leadership\n",
      "https://medium.flutterdevs.com/app-lifecycle-in-flutter-c248d894b830\n",
      "https://news.ycombinator.com/item?id=33223124\n",
      "https://bytes.swiggy.com/\n",
      "https://www.mayoclinic.org/healthy-lifestyle/sexual-health/in-depth/penis/art-20045363\n",
      "https://www.nhs.uk/medicines/tadalafil/\n",
      "https://www.hilton.com/en/corporate/\n",
      "https://www.freecodecamp.org/news/how-to-setup-recaptcha-v3-in-laravel/\n",
      "https://pub.towardsai.net/how-to-create-a-siamese-network-with-keras-to-compare-images-5713b3ee7a28\n",
      "https://levelup.gitconnected.com/understanding-hashing-and-equality-in-python-with-hash-and-eq-12f6da79e8ad\n",
      "https://betterhumans.pub/cognitive-bias-cheat-sheet-55a472476b18\n",
      "https://medium.datadriveninvestor.com/how-to-predict-stock-volatility-using-garch-model-in-python-df5ba46bae35?source=rss----32881626c9c9---4\n",
      "https://medium.datadriveninvestor.com/sorry-economic-doomsters-9758e007174b\n",
      "https://infosecwriteups.com/tagged/bug-bounty\n",
      "https://web.ambest.com/\n",
      "https://www.hcss.com/\n",
      "https://www.netzpiloten.de/medium-schoener-bloggen-aber-mit-stolpersteinen/\n",
      "https://joyorganics.com/\n",
      "https://uxplanet.org/how-to-make-an-easy-to-read-flowchart-1221b64c1b6d\n",
      "https://codereview.stackexchange.com/\n",
      "https://laraveldaily.com/\n",
      "https://meetmattfraser.com/\n",
      "https://sebastiandedeyne.com/\n"
     ]
    }
   ],
   "source": [
    "!pip install google\n",
    "\n",
    "from googlesearch import search\n",
    "query = \"Medium.com\"\n",
    " \n",
    "for url in search(query):\n",
    "    print(url)"
   ]
  },
  {
   "cell_type": "code",
   "execution_count": null,
   "metadata": {},
   "outputs": [],
   "source": [
    "!pip uninstall <packagename>"
   ]
  },
  {
   "cell_type": "code",
   "execution_count": 13,
   "metadata": {},
   "outputs": [
    {
     "name": "stdout",
     "output_type": "stream",
     "text": [
      "https://www.linkedin.com/\n",
      "https://en.wikipedia.org/wiki/LinkedIn\n",
      "https://www.facebook.com/LinkedIn/\n",
      "https://www.instagram.com/linkedin/\n",
      "https://apps.apple.com/us/app/linkedin-network-job-finder/id288429040\n",
      "https://www.similarweb.com/website/linkedin.com/\n",
      "https://learn.microsoft.com/en-us/linkedin/consumer/integrations/self-serve/sign-in-with-linkedin\n",
      "https://learn.microsoft.com/en-us/linkedin/consumer/integrations/self-serve/share-on-linkedin\n",
      "https://www.youtube.com/watch?v=RtNLY-f4Nys\n",
      "https://www.cancer.gov/news-events/cancer-currents-blog/2020/colorectal-cancer-rising-younger-adults\n"
     ]
    }
   ],
   "source": [
    "from googlesearch import search\n",
    "query = \"LinkedIn.com\"\n",
    " \n",
    "for url in search(query):\n",
    "    print(url)"
   ]
  },
  {
   "cell_type": "code",
   "execution_count": null,
   "metadata": {},
   "outputs": [],
   "source": []
  }
 ],
 "metadata": {
  "kernelspec": {
   "display_name": "Python 3",
   "language": "python",
   "name": "python3"
  },
  "language_info": {
   "codemirror_mode": {
    "name": "ipython",
    "version": 3
   },
   "file_extension": ".py",
   "mimetype": "text/x-python",
   "name": "python",
   "nbconvert_exporter": "python",
   "pygments_lexer": "ipython3",
   "version": "3.8.3"
  }
 },
 "nbformat": 4,
 "nbformat_minor": 4
}
